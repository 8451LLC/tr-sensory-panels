{
 "cells": [
  {
   "cell_type": "code",
   "execution_count": null,
   "metadata": {
    "application/vnd.databricks.v1+cell": {
     "cellMetadata": {
      "byteLimit": 2048000,
      "rowLimit": 10000
     },
     "inputWidgets": {},
     "nuid": "5271b442-8848-4079-8e8c-c9fe5025f940",
     "showTitle": false,
     "tableResultSettingsMap": {},
     "title": ""
    }
   },
   "outputs": [],
   "source": [
    "from dotenv import load_dotenv\n",
    "from databricks.vector_search.client import VectorSearchClient\n",
    "\n",
    "CATALOG = 'manufacturing_dev'\n",
    "SCHEMA = 'work_agent_barney'\n",
    "\n",
    "load_dotenv()\n",
    "\n",
    "client = VectorSearchClient()"
   ]
  },
  {
   "cell_type": "code",
   "execution_count": null,
   "metadata": {
    "application/vnd.databricks.v1+cell": {
     "cellMetadata": {
      "byteLimit": 2048000,
      "rowLimit": 10000
     },
     "inputWidgets": {},
     "nuid": "59bc78ab-d965-4dfa-b543-a2632cd0df3a",
     "showTitle": false,
     "tableResultSettingsMap": {},
     "title": ""
    }
   },
   "outputs": [],
   "source": [
    "index = client.create_endpoint_and_wait(\n",
    "    name=\"master_sensory_data_endpoint\",\n",
    "    endpoint_type=\"STANDARD\"\n",
    ")"
   ]
  },
  {
   "cell_type": "code",
   "execution_count": null,
   "metadata": {
    "application/vnd.databricks.v1+cell": {
     "cellMetadata": {
      "byteLimit": 2048000,
      "implicitDf": true,
      "rowLimit": 10000
     },
     "inputWidgets": {},
     "nuid": "1fc4f34d-cf76-40bd-a883-6e1991b16ecf",
     "showTitle": false,
     "tableResultSettingsMap": {},
     "title": ""
    }
   },
   "outputs": [],
   "source": [
    "index = client.create_delta_sync_index_and_wait(\n",
    "    endpoint_name=\"master_sensory_data_endpoint\",\n",
    "    index_name=f\"{CATALOG}.{SCHEMA}.master_sensory_panel_joined_index\",\n",
    "    primary_key=\"id\",\n",
    "    source_table_name=f\"{CATALOG}.{SCHEMA}.master_sensory_panel_joined_silver\",\n",
    "    pipeline_type=\"TRIGGERED\",\n",
    "    embedding_dimension=1536,\n",
    "    embedding_vector_column=\"data_embedding\",\n",
    "    verbose=True,\n",
    ")"
   ]
  },
  {
   "cell_type": "code",
   "execution_count": null,
   "metadata": {
    "application/vnd.databricks.v1+cell": {
     "cellMetadata": {
      "byteLimit": 2048000,
      "rowLimit": 10000
     },
     "inputWidgets": {},
     "nuid": "e285144c-7335-46fa-bc85-14d6b90928b9",
     "showTitle": false,
     "tableResultSettingsMap": {},
     "title": ""
    }
   },
   "outputs": [],
   "source": [
    "index = client.create_delta_sync_index_and_wait(\n",
    "    endpoint_name=\"master_sensory_data_endpoint\",\n",
    "    index_name=f\"{CATALOG}.{SCHEMA}.master_sensory_responses_collected_index\",\n",
    "    primary_key=\"id\",\n",
    "    source_table_name=f\"{CATALOG}.{SCHEMA}.master_sensory_responses_collected_silver\",\n",
    "    pipeline_type=\"TRIGGERED\",\n",
    "    embedding_dimension=1536,\n",
    "    embedding_vector_column=\"data_embedding\",\n",
    "    verbose=True,\n",
    ")"
   ]
  }
 ],
 "metadata": {
  "application/vnd.databricks.v1+notebook": {
   "computePreferences": null,
   "dashboards": [],
   "environmentMetadata": {
    "base_environment": "",
    "environment_version": "2"
   },
   "inputWidgetPreferences": null,
   "language": "python",
   "notebookMetadata": {
    "mostRecentlyExecutedCommandWithImplicitDF": {
     "commandId": -1,
     "dataframes": [
      "_sqldf"
     ]
    },
    "pythonIndentUnit": 4
   },
   "notebookName": "vector_index",
   "widgets": {}
  },
  "kernelspec": {
   "display_name": ".venv",
   "language": "python",
   "name": "python3"
  },
  "language_info": {
   "codemirror_mode": {
    "name": "ipython",
    "version": 3
   },
   "file_extension": ".py",
   "mimetype": "text/x-python",
   "name": "python",
   "nbconvert_exporter": "python",
   "pygments_lexer": "ipython3",
   "version": "3.11.10"
  }
 },
 "nbformat": 4,
 "nbformat_minor": 0
}
