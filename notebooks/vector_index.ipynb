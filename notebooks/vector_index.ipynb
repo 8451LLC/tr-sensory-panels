{
 "cells": [
  {
   "cell_type": "code",
   "execution_count": 0,
   "metadata": {
    "application/vnd.databricks.v1+cell": {
     "cellMetadata": {
      "byteLimit": 2048000,
      "rowLimit": 10000
     },
     "inputWidgets": {},
     "nuid": "fae0230c-9d29-40ba-9ee9-167de6ef9bcc",
     "showTitle": false,
     "tableResultSettingsMap": {},
     "title": ""
    }
   },
   "outputs": [],
   "source": [
    "%pip install databricks-vectorsearch databricks-langchain langchain-openai"
   ]
  },
  {
   "cell_type": "code",
   "execution_count": 0,
   "metadata": {
    "application/vnd.databricks.v1+cell": {
     "cellMetadata": {
      "byteLimit": 2048000,
      "rowLimit": 10000
     },
     "inputWidgets": {},
     "nuid": "c15fe8f2-e13d-4612-b7dd-7a0ef736d279",
     "showTitle": false,
     "tableResultSettingsMap": {},
     "title": ""
    }
   },
   "outputs": [],
   "source": [
    "dbutils.library.restartPython()"
   ]
  },
  {
   "cell_type": "code",
   "execution_count": 0,
   "metadata": {
    "application/vnd.databricks.v1+cell": {
     "cellMetadata": {
      "byteLimit": 2048000,
      "rowLimit": 10000
     },
     "inputWidgets": {},
     "nuid": "5271b442-8848-4079-8e8c-c9fe5025f940",
     "showTitle": false,
     "tableResultSettingsMap": {},
     "title": ""
    }
   },
   "outputs": [],
   "source": [
    "from databricks.vector_search.client import VectorSearchClient\n",
    "\n",
    "\n",
    "CATALOG = 'manufacturing_dev'\n",
    "SCHEMA = 'work_agent_barney'\n",
    "\n",
    "\n",
    "client = VectorSearchClient()"
   ]
  },
  {
   "cell_type": "code",
   "execution_count": 0,
   "metadata": {
    "application/vnd.databricks.v1+cell": {
     "cellMetadata": {
      "byteLimit": 2048000,
      "rowLimit": 10000
     },
     "inputWidgets": {},
     "nuid": "59bc78ab-d965-4dfa-b543-a2632cd0df3a",
     "showTitle": false,
     "tableResultSettingsMap": {},
     "title": ""
    }
   },
   "outputs": [],
   "source": [
    "index = client.create_endpoint_and_wait(\n",
    "    name=\"master_sensory_data_endpoint\",\n",
    "    endpoint_type=\"STANDARD\"\n",
    ")"
   ]
  },
  {
   "cell_type": "code",
   "execution_count": 0,
   "metadata": {
    "application/vnd.databricks.v1+cell": {
     "cellMetadata": {
      "byteLimit": 2048000,
      "implicitDf": true,
      "rowLimit": 10000
     },
     "inputWidgets": {},
     "nuid": "1fc4f34d-cf76-40bd-a883-6e1991b16ecf",
     "showTitle": false,
     "tableResultSettingsMap": {},
     "title": ""
    }
   },
   "outputs": [],
   "source": [
    "index = client.create_delta_sync_index_and_wait(\n",
    "    endpoint_name=\"master_sensory_data_endpoint\",\n",
    "    index_name=f\"{CATALOG}.{SCHEMA}.master_sensory_panel_joined_index\",\n",
    "    primary_key=\"id\",\n",
    "    source_table_name=f\"{CATALOG}.{SCHEMA}.master_sensory_panel_joined_silver\",\n",
    "    pipeline_type=\"TRIGGERED\",\n",
    "    embedding_dimension=1536,\n",
    "    embedding_vector_column=\"data_embedding\",\n",
    "    verbose=True,\n",
    ")"
   ]
  },
  {
   "cell_type": "code",
   "execution_count": 0,
   "metadata": {
    "application/vnd.databricks.v1+cell": {
     "cellMetadata": {
      "byteLimit": 2048000,
      "rowLimit": 10000
     },
     "inputWidgets": {},
     "nuid": "e285144c-7335-46fa-bc85-14d6b90928b9",
     "showTitle": false,
     "tableResultSettingsMap": {},
     "title": ""
    }
   },
   "outputs": [],
   "source": [
    "index = client.create_delta_sync_index_and_wait(\n",
    "    endpoint_name=\"master_sensory_data_endpoint\",\n",
    "    index_name=f\"{CATALOG}.{SCHEMA}.master_sensory_responses_collected_index\",\n",
    "    primary_key=\"id\",\n",
    "    source_table_name=f\"{CATALOG}.{SCHEMA}.master_sensory_responses_collected_silver\",\n",
    "    pipeline_type=\"TRIGGERED\",\n",
    "    embedding_dimension=1536,\n",
    "    embedding_vector_column=\"data_embedding\",\n",
    "    verbose=True,\n",
    ")"
   ]
  },
  {
   "cell_type": "markdown",
   "metadata": {
    "application/vnd.databricks.v1+cell": {
     "cellMetadata": {},
     "inputWidgets": {},
     "nuid": "4315a580-d37a-4cd9-8bdd-3d9fa471eed5",
     "showTitle": false,
     "tableResultSettingsMap": {},
     "title": ""
    }
   },
   "source": [
    "## Query"
   ]
  },
  {
   "cell_type": "code",
   "execution_count": 0,
   "metadata": {
    "application/vnd.databricks.v1+cell": {
     "cellMetadata": {
      "byteLimit": 2048000,
      "rowLimit": 10000
     },
     "inputWidgets": {},
     "nuid": "b13ea7c4-2513-44c1-8c11-194fcb289580",
     "showTitle": false,
     "tableResultSettingsMap": {},
     "title": ""
    }
   },
   "outputs": [],
   "source": [
    "import os, getpass\n",
    "\n",
    "from databricks_langchain import DatabricksVectorSearch\n",
    "from langchain_openai import OpenAIEmbeddings\n",
    "\n",
    "\n",
    "CATALOG = \"manufacturing_dev\"\n",
    "SCHEMA = \"work_agent_barney\"\n",
    "OPENAI_API_BASE = \"https://api-internal.8451.com/ai/proxy/\"\n",
    "\n",
    "\n",
    "def _set_env(var: str):\n",
    "    if not os.environ.get(var):\n",
    "        os.environ[var] = getpass.getpass(f\"{var}: \")\n",
    "\n",
    "\n",
    "# Set env vars\n",
    "_set_env(\"OPENAI_API_KEY\")\n",
    "os.environ[\"OPENAI_API_BASE\"] = OPENAI_API_BASE\n",
    "\n",
    "\n",
    "embed_model = OpenAIEmbeddings(model=\"text-embedding-3-small\")"
   ]
  },
  {
   "cell_type": "code",
   "execution_count": 0,
   "metadata": {
    "application/vnd.databricks.v1+cell": {
     "cellMetadata": {
      "byteLimit": 2048000,
      "rowLimit": 10000
     },
     "inputWidgets": {},
     "nuid": "31f075a7-f40f-4a58-bd10-9c71a3d5c8d9",
     "showTitle": false,
     "tableResultSettingsMap": {},
     "title": ""
    }
   },
   "outputs": [],
   "source": [
    "responses_vector_store = DatabricksVectorSearch(\n",
    "    endpoint=\"master_sensory_data_endpoint\",\n",
    "    index_name=f\"{CATALOG}.{SCHEMA}.master_sensory_panel_joined_index\",\n",
    "    embedding=embed_model,\n",
    "    text_column='data'\n",
    ")"
   ]
  },
  {
   "cell_type": "code",
   "execution_count": 0,
   "metadata": {
    "application/vnd.databricks.v1+cell": {
     "cellMetadata": {
      "byteLimit": 2048000,
      "rowLimit": 10000
     },
     "inputWidgets": {},
     "nuid": "3ced8e8c-92cc-4f34-8f58-72d59d42eba4",
     "showTitle": false,
     "tableResultSettingsMap": {},
     "title": ""
    }
   },
   "outputs": [],
   "source": [
    "results = responses_vector_store.similarity_search(\n",
    "    query=\"Are there any panels involving mushrooms?\",\n",
    "    k=1,\n",
    ")"
   ]
  },
  {
   "cell_type": "code",
   "execution_count": 0,
   "metadata": {
    "application/vnd.databricks.v1+cell": {
     "cellMetadata": {
      "byteLimit": 2048000,
      "rowLimit": 10000
     },
     "inputWidgets": {},
     "nuid": "8af57f4d-4637-41aa-8be6-03652e3a6f07",
     "showTitle": false,
     "tableResultSettingsMap": {},
     "title": ""
    }
   },
   "outputs": [],
   "source": [
    "results"
   ]
  }
 ],
 "metadata": {
  "application/vnd.databricks.v1+notebook": {
   "computePreferences": null,
   "dashboards": [],
   "environmentMetadata": {
    "base_environment": "",
    "environment_version": "2"
   },
   "inputWidgetPreferences": null,
   "language": "python",
   "notebookMetadata": {
    "mostRecentlyExecutedCommandWithImplicitDF": {
     "commandId": -1,
     "dataframes": [
      "_sqldf"
     ]
    },
    "pythonIndentUnit": 4
   },
   "notebookName": "vector_index",
   "widgets": {}
  },
  "language_info": {
   "name": "python"
  }
 },
 "nbformat": 4,
 "nbformat_minor": 0
}
