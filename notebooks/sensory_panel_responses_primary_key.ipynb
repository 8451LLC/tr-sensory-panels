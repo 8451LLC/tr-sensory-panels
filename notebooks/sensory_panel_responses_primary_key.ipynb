{
 "cells": [
  {
   "cell_type": "code",
   "execution_count": 0,
   "metadata": {
    "application/vnd.databricks.v1+cell": {
     "cellMetadata": {
      "byteLimit": 2048000,
      "rowLimit": 10000
     },
     "inputWidgets": {},
     "nuid": "1d659e50-6770-4c9d-98d6-aea1277afb93",
     "showTitle": false,
     "tableResultSettingsMap": {},
     "title": ""
    }
   },
   "outputs": [],
   "source": [
    "USE CATALOG manufacturing_dev;\n",
    "USE SCHEMA work_agent_barney;\n",
    "\n",
    "\n",
    "-- Check for duplicates\n",
    "SELECT\n",
    "  test_id,\n",
    "  unique_panelist_id,\n",
    "  COUNT(*) AS count\n",
    "FROM\n",
    "  master_sensory_responses_collected_silver\n",
    "GROUP BY\n",
    "  test_id,\n",
    "  unique_panelist_id\n",
    "HAVING\n",
    "  COUNT(*) > 1;"
   ]
  },
  {
   "cell_type": "code",
   "execution_count": 0,
   "metadata": {
    "application/vnd.databricks.v1+cell": {
     "cellMetadata": {
      "byteLimit": 2048000,
      "rowLimit": 10000
     },
     "inputWidgets": {},
     "nuid": "f9b51722-f5e7-4dd2-8326-99a81604d882",
     "showTitle": false,
     "tableResultSettingsMap": {},
     "title": ""
    }
   },
   "outputs": [],
   "source": [
    "-- Alter the table to set the columns as NOT NULL\n",
    "ALTER TABLE\n",
    "  master_sensory_responses_collected_silver\n",
    "ALTER COLUMN\n",
    "  test_id SET NOT NULL;\n",
    "\n",
    "ALTER TABLE\n",
    "  master_sensory_responses_collected_silver\n",
    "ALTER COLUMN\n",
    "  unique_panelist_id SET NOT NULL;\n",
    "\n",
    "-- Alter the table to add the primary key constraint\n",
    "ALTER TABLE\n",
    "  master_sensory_responses_collected_silver\n",
    "ADD CONSTRAINT\n",
    "  pk_test_id_unique_panelist_id\n",
    "PRIMARY KEY\n",
    "  (test_id, unique_panelist_id);"
   ]
  }
 ],
 "metadata": {
  "application/vnd.databricks.v1+notebook": {
   "computePreferences": null,
   "dashboards": [],
   "environmentMetadata": {
    "base_environment": "",
    "environment_version": "2"
   },
   "inputWidgetPreferences": null,
   "language": "sql",
   "notebookMetadata": {
    "pythonIndentUnit": 4
   },
   "notebookName": "sensory_panel_responses_primary_key",
   "widgets": {}
  },
  "language_info": {
   "name": "sql"
  }
 },
 "nbformat": 4,
 "nbformat_minor": 0
}
